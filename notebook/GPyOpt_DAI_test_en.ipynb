{
 "cells": [
  {
   "cell_type": "markdown",
   "id": "da7efa37",
   "metadata": {},
   "source": [
    "# Optimization problem with DAI as a target function\n",
    "- Find optimal X to minimize or maximize  DAI-model(X)\n",
    "- Baysian optimization using [GPyOpt](https://sheffieldml.github.io/GPyOpt/) ([API documentation](https://gpyopt.readthedocs.io/en/latest/GPyOpt.methods.html))"
   ]
  },
  {
   "cell_type": "code",
   "execution_count": 31,
   "id": "45568a88",
   "metadata": {},
   "outputs": [
    {
     "name": "stdout",
     "output_type": "stream",
     "text": [
      "1.10.1.3\n"
     ]
    }
   ],
   "source": [
    "from GPyOpt.methods import BayesianOptimization\n",
    "import os\n",
    "import functools\n",
    "import driverlessai\n",
    "print(driverlessai.__version__)\n",
    "import pandas as pd\n",
    "import numpy as np"
   ]
  },
  {
   "cell_type": "markdown",
   "id": "908fad93",
   "metadata": {},
   "source": [
    "## (Step1) Connect DAI and get an experiment to apply optimization."
   ]
  },
  {
   "cell_type": "code",
   "execution_count": 2,
   "id": "2c6df306",
   "metadata": {},
   "outputs": [
    {
     "data": {
      "text/plain": [
       "<class 'driverlessai._core.Client'> http://54.159.88.206:12345"
      ]
     },
     "execution_count": 2,
     "metadata": {},
     "output_type": "execute_result"
    }
   ],
   "source": [
    "# Connect DAI Server\n",
    "\n",
    "import json\n",
    "with open('../idpass.json') as f:\n",
    "    idpass = json.load(f)\n",
    "\n",
    "dai = driverlessai.Client(address='http://54.159.88.206:12345', username=idpass['id'], password=idpass['pass11013'])\n",
    "dai"
   ]
  },
  {
   "cell_type": "code",
   "execution_count": 3,
   "id": "39785683",
   "metadata": {},
   "outputs": [
    {
     "data": {
      "text/plain": [
       "    | Type       | Key                                  | Name\n",
       "----+------------+--------------------------------------+---------------------\n",
       "  0 | Experiment | 575939ba-afc7-11ec-98cf-0242ac110002 | cc3-test\n",
       "  1 | Experiment | 9b27f286-aca6-11ec-b964-0242ac110002 | uci-credit-reg-test\n",
       "  2 | Experiment | bf5a9eba-9ea0-11ec-8908-0242ac110002 | dapawomu\n",
       "  3 | Experiment | 69a5c178-9e9d-11ec-8908-0242ac110002 | bostonhouse-mod1\n",
       "  4 | Experiment | 6dfccb46-9b86-11ec-8e63-0242ac110002 | wm-default"
      ]
     },
     "execution_count": 3,
     "metadata": {},
     "output_type": "execute_result"
    }
   ],
   "source": [
    "# Experiment list\n",
    "dai.experiments.list()"
   ]
  },
  {
   "cell_type": "code",
   "execution_count": 4,
   "id": "a84db14d",
   "metadata": {},
   "outputs": [
    {
     "data": {
      "text/plain": [
       "driverlessai._experiments.Experiment"
      ]
     },
     "execution_count": 4,
     "metadata": {},
     "output_type": "execute_result"
    }
   ],
   "source": [
    "# Select experiment\n",
    "experiment = dai.experiments.get(key='69a5c178-9e9d-11ec-8908-0242ac110002')\n",
    "type(experiment)"
   ]
  },
  {
   "cell_type": "code",
   "execution_count": 5,
   "id": "4563fc39",
   "metadata": {},
   "outputs": [
    {
     "data": {
      "text/plain": [
       "{'train_dataset': <class 'Dataset'> 653b25c2-91de-11ec-8bed-0242ac110002 BostonHousing.csv,\n",
       " 'validation_dataset': None,\n",
       " 'test_dataset': None}"
      ]
     },
     "execution_count": 5,
     "metadata": {},
     "output_type": "execute_result"
    }
   ],
   "source": [
    "# Training data info\n",
    "experiment.datasets"
   ]
  },
  {
   "cell_type": "markdown",
   "id": "0aa19594",
   "metadata": {},
   "source": [
    "This is BostonHousing dataset. ([Data Download](https://h2oai-jp-public.s3.ap-northeast-1.amazonaws.com/sample_data/boston_house/BostonHousing.csv))"
   ]
  },
  {
   "cell_type": "markdown",
   "id": "4831ab63",
   "metadata": {},
   "source": [
    "## (Step2) Get training data info for optimization settings. "
   ]
  },
  {
   "cell_type": "code",
   "execution_count": 6,
   "id": "ce20398c",
   "metadata": {},
   "outputs": [
    {
     "name": "stdout",
     "output_type": "stream",
     "text": [
      "Training data:  BostonHousing.csv (653b25c2-91de-11ec-8bed-0242ac110002)\n",
      "Training data columns:  ['CRIM', 'ZN', 'INDUS', 'CHAS', 'NOX', 'RM', 'AGE', 'DIS', 'RAD', 'TAX', 'PTRATIO', 'B', 'LSTAT', 'MEDV']\n",
      "Dropped columns:  []\n",
      "Target column used in the experiment:  MEDV\n",
      "Features used in the experiment:   ['CRIM', 'ZN', 'INDUS', 'CHAS', 'NOX', 'RM', 'AGE', 'DIS', 'RAD', 'TAX', 'PTRATIO', 'B', 'LSTAT']\n"
     ]
    }
   ],
   "source": [
    "dataset = dai.datasets.get(key=experiment.datasets['train_dataset'].key)\n",
    "print('Training data: ', dataset)\n",
    "\n",
    "data_cols = dataset.columns\n",
    "print('Training data columns: ', data_cols)\n",
    "\n",
    "try:\n",
    "    drop_cols = experiment.settings['drop_columns']     # return dropped column in list\n",
    "except KeyError:\n",
    "    drop_cols = []     # if no dropped column\n",
    "print('Dropped columns: ', drop_cols)\n",
    "\n",
    "target_col = experiment.settings['target_column']\n",
    "print('Target column used in the experiment: ', target_col)\n",
    "\n",
    "x_cols = []\n",
    "for col in data_cols:\n",
    "    if (col in drop_cols) or (col in target_col):    # remove Target col and Dropped cols\n",
    "        continue\n",
    "    x_cols.append(col)\n",
    "print('Features used in the experiment:  ', x_cols)       # We need this"
   ]
  },
  {
   "cell_type": "code",
   "execution_count": 7,
   "id": "8f527c6d",
   "metadata": {},
   "outputs": [
    {
     "data": {
      "text/html": [
       "<div>\n",
       "<style scoped>\n",
       "    .dataframe tbody tr th:only-of-type {\n",
       "        vertical-align: middle;\n",
       "    }\n",
       "\n",
       "    .dataframe tbody tr th {\n",
       "        vertical-align: top;\n",
       "    }\n",
       "\n",
       "    .dataframe thead th {\n",
       "        text-align: right;\n",
       "    }\n",
       "</style>\n",
       "<table border=\"1\" class=\"dataframe\">\n",
       "  <thead>\n",
       "    <tr style=\"text-align: right;\">\n",
       "      <th></th>\n",
       "      <th>col</th>\n",
       "      <th>min</th>\n",
       "      <th>max</th>\n",
       "      <th>type</th>\n",
       "    </tr>\n",
       "  </thead>\n",
       "  <tbody>\n",
       "    <tr>\n",
       "      <th>0</th>\n",
       "      <td>CRIM</td>\n",
       "      <td>0.00632</td>\n",
       "      <td>88.9762</td>\n",
       "      <td>continuous</td>\n",
       "    </tr>\n",
       "    <tr>\n",
       "      <th>1</th>\n",
       "      <td>ZN</td>\n",
       "      <td>0.00000</td>\n",
       "      <td>100.0000</td>\n",
       "      <td>continuous</td>\n",
       "    </tr>\n",
       "    <tr>\n",
       "      <th>2</th>\n",
       "      <td>INDUS</td>\n",
       "      <td>0.46000</td>\n",
       "      <td>27.7400</td>\n",
       "      <td>continuous</td>\n",
       "    </tr>\n",
       "    <tr>\n",
       "      <th>3</th>\n",
       "      <td>CHAS</td>\n",
       "      <td>0.00000</td>\n",
       "      <td>1.0000</td>\n",
       "      <td>continuous</td>\n",
       "    </tr>\n",
       "    <tr>\n",
       "      <th>4</th>\n",
       "      <td>NOX</td>\n",
       "      <td>0.38500</td>\n",
       "      <td>0.8710</td>\n",
       "      <td>continuous</td>\n",
       "    </tr>\n",
       "    <tr>\n",
       "      <th>5</th>\n",
       "      <td>RM</td>\n",
       "      <td>3.56100</td>\n",
       "      <td>8.7800</td>\n",
       "      <td>continuous</td>\n",
       "    </tr>\n",
       "    <tr>\n",
       "      <th>6</th>\n",
       "      <td>AGE</td>\n",
       "      <td>2.90000</td>\n",
       "      <td>100.0000</td>\n",
       "      <td>continuous</td>\n",
       "    </tr>\n",
       "    <tr>\n",
       "      <th>7</th>\n",
       "      <td>DIS</td>\n",
       "      <td>1.12960</td>\n",
       "      <td>12.1265</td>\n",
       "      <td>continuous</td>\n",
       "    </tr>\n",
       "    <tr>\n",
       "      <th>8</th>\n",
       "      <td>RAD</td>\n",
       "      <td>1.00000</td>\n",
       "      <td>24.0000</td>\n",
       "      <td>continuous</td>\n",
       "    </tr>\n",
       "    <tr>\n",
       "      <th>9</th>\n",
       "      <td>TAX</td>\n",
       "      <td>187.00000</td>\n",
       "      <td>711.0000</td>\n",
       "      <td>continuous</td>\n",
       "    </tr>\n",
       "    <tr>\n",
       "      <th>10</th>\n",
       "      <td>PTRATIO</td>\n",
       "      <td>12.60000</td>\n",
       "      <td>22.0000</td>\n",
       "      <td>continuous</td>\n",
       "    </tr>\n",
       "    <tr>\n",
       "      <th>11</th>\n",
       "      <td>B</td>\n",
       "      <td>0.32000</td>\n",
       "      <td>396.9000</td>\n",
       "      <td>continuous</td>\n",
       "    </tr>\n",
       "    <tr>\n",
       "      <th>12</th>\n",
       "      <td>LSTAT</td>\n",
       "      <td>1.73000</td>\n",
       "      <td>37.9700</td>\n",
       "      <td>continuous</td>\n",
       "    </tr>\n",
       "  </tbody>\n",
       "</table>\n",
       "</div>"
      ],
      "text/plain": [
       "        col        min       max        type\n",
       "0      CRIM    0.00632   88.9762  continuous\n",
       "1        ZN    0.00000  100.0000  continuous\n",
       "2     INDUS    0.46000   27.7400  continuous\n",
       "3      CHAS    0.00000    1.0000  continuous\n",
       "4       NOX    0.38500    0.8710  continuous\n",
       "5        RM    3.56100    8.7800  continuous\n",
       "6       AGE    2.90000  100.0000  continuous\n",
       "7       DIS    1.12960   12.1265  continuous\n",
       "8       RAD    1.00000   24.0000  continuous\n",
       "9       TAX  187.00000  711.0000  continuous\n",
       "10  PTRATIO   12.60000   22.0000  continuous\n",
       "11        B    0.32000  396.9000  continuous\n",
       "12    LSTAT    1.73000   37.9700  continuous"
      ]
     },
     "execution_count": 7,
     "metadata": {},
     "output_type": "execute_result"
    }
   ],
   "source": [
    "# Domain (Min and Max) of X columns and their types in training data\n",
    "\n",
    "min_list = [col_summary.min for col_summary in dataset.column_summaries()[x_cols]]\n",
    "\n",
    "max_list = [col_summary.max for col_summary in dataset.column_summaries()[x_cols]]\n",
    "\n",
    "type_list = [col_summary.data_type for col_summary in dataset.column_summaries()[x_cols]]\n",
    "type_list = pd.Series(type_list).map({'real':'continuous', 'int':'continupus', 'str':'categorical'})   # Map DAI data type to GPyOpt type\n",
    "# GPyOpt takes 'continuous', 'discrete' or 'categorical'.\n",
    "# 'categorical' is not tested in this notebook\n",
    "\n",
    "df_domain = pd.DataFrame({'col':x_cols, 'min':min_list, 'max':max_list, 'type':type_list})\n",
    "\n",
    "#df_domain['type'] = 'continuous'     # Column type. 'continuous' for continous optimization. 'discrite' for discrite optimization\n",
    "\n",
    "df_domain"
   ]
  },
  {
   "cell_type": "markdown",
   "id": "6273cfa7",
   "metadata": {},
   "source": [
    "GPyOpt supported input type\n",
    "- https://gpyopt.readthedocs.io/en/latest/GPyOpt.core.task.html#GPyOpt.core.task.space.Design_space.supported_types"
   ]
  },
  {
   "cell_type": "markdown",
   "id": "2b048c98",
   "metadata": {},
   "source": [
    "## (Step3) Baysian Optimization by GPyOpt"
   ]
  },
  {
   "cell_type": "markdown",
   "id": "ce40f1f3",
   "metadata": {},
   "source": [
    "GPyOpt.methods.bayesian_optimization.BayesianOptimization\n",
    "- Main class to initialize a Bayesian Optimization method\n",
    "- https://gpyopt.readthedocs.io/en/latest/GPyOpt.methods.html#GPyOpt.methods.bayesian_optimization.BayesianOptimization"
   ]
  },
  {
   "cell_type": "code",
   "execution_count": 94,
   "id": "38c39255",
   "metadata": {},
   "outputs": [],
   "source": [
    "def daimodel(x: np.array) -> np.array:\n",
    "    ''' \n",
    "    This function does DAI Scoring. And we want to find optimal x to minimize or maximize daimodel(x)\n",
    "    this function requires x_cols, dai(driverlessai._core.Client obj), and specified experiment(driverlessai._experiments.Experiment obj)\n",
    "    Only regression model (classification model is not implemented)\n",
    "    '''\n",
    "    #print(type(x))\n",
    "    #print(x.shape)\n",
    "    #print(x)\n",
    "    # Create a scoring data for DAI\n",
    "    df = pd.DataFrame(np.array([x[:,i] for i in range(len(x_cols))]).reshape(x.shape[0], len(x_cols)), columns=x_cols)\n",
    "    #print(df)\n",
    "    # Upload it to DAI\n",
    "    df.to_csv('tmp_pred.csv', index=False)\n",
    "    data_to_predict = dai.datasets.create(data='./tmp_pred.csv', data_source='upload', name='tmp_pred.csv', force=True)\n",
    "    # Scoring on the new dataset and download it\n",
    "    dai_predictions = experiment.predict(dataset=data_to_predict, include_columns=data_to_predict.columns)\n",
    "    data_to_predict.delete()\n",
    "    # Download the scored data and return the prediction\n",
    "    dai_predictions.download(dst_dir='', dst_file='tmp_res.csv', overwrite=True) \n",
    "    df_res = pd.read_csv('tmp_res.csv')\n",
    "    print('---------- Done ----------')\n",
    "    return np.array(df_res[experiment.settings['target_column']])    # return only prediction"
   ]
  },
  {
   "cell_type": "code",
   "execution_count": 17,
   "id": "481536cd",
   "metadata": {},
   "outputs": [
    {
     "name": "stdout",
     "output_type": "stream",
     "text": [
      "Input example:  [[ 88.9762 100.      27.74     1.       0.871    8.78   100.      12.1265\n",
      "   24.     711.      22.     396.9     37.97  ]]\n",
      "Imput data shape:  (1, 13)\n",
      "===== DAI Scoring =====\n",
      "Complete 100.00% - [4/4] Computed stats for column LSTAT\n",
      "Complete\n",
      "Driverless AI Server reported dataset e5f4ba04-ac9e-11ec-8a3a-0242ac110002 deleted.\n",
      "Downloaded 'tmp_res.csv'\n",
      "---------- Done ----------\n"
     ]
    },
    {
     "data": {
      "text/plain": [
       "array([16.985456])"
      ]
     },
     "execution_count": 17,
     "metadata": {},
     "output_type": "execute_result"
    }
   ],
   "source": [
    "# Example1\n",
    "\n",
    "print('Input example: ', np.array([max_list]))\n",
    "print('Imput data shape: ', np.array([max_list]).shape)\n",
    "\n",
    "print('===== DAI Scoring =====')\n",
    "daimodel(np.array([max_list]))"
   ]
  },
  {
   "cell_type": "code",
   "execution_count": 18,
   "id": "21a0ae7f",
   "metadata": {},
   "outputs": [
    {
     "name": "stdout",
     "output_type": "stream",
     "text": [
      "Complete 100.00% - [4/4] Computed stats for column LSTAT\n",
      "Complete\n",
      "Driverless AI Server reported dataset f29e85f0-ac9e-11ec-8a3a-0242ac110002 deleted.\n",
      "Downloaded 'tmp_res.csv'\n",
      "---------- Done ----------\n"
     ]
    },
    {
     "data": {
      "text/plain": [
       "array([ 7.4992714, 48.797626 ])"
      ]
     },
     "execution_count": 18,
     "metadata": {},
     "output_type": "execute_result"
    }
   ],
   "source": [
    "# Example2\n",
    "\n",
    "daimodel(np.array([max_list, min_list]))"
   ]
  },
  {
   "cell_type": "code",
   "execution_count": 19,
   "id": "acabd6e1",
   "metadata": {},
   "outputs": [
    {
     "data": {
      "text/plain": [
       "[{'name': 'CRIM', 'type': 'continuous', 'domain': (0.00632, 88.9762)},\n",
       " {'name': 'ZN', 'type': 'continuous', 'domain': (0.0, 100.0)},\n",
       " {'name': 'INDUS', 'type': 'continuous', 'domain': (0.46, 27.74)},\n",
       " {'name': 'CHAS', 'type': 'continuous', 'domain': (0.0, 1.0)},\n",
       " {'name': 'NOX', 'type': 'continuous', 'domain': (0.385, 0.871)},\n",
       " {'name': 'RM', 'type': 'continuous', 'domain': (3.561, 8.78)},\n",
       " {'name': 'AGE', 'type': 'continuous', 'domain': (2.9, 100.0)},\n",
       " {'name': 'DIS', 'type': 'continuous', 'domain': (1.1296, 12.1265)},\n",
       " {'name': 'RAD', 'type': 'continuous', 'domain': (1.0, 24.0)},\n",
       " {'name': 'TAX', 'type': 'continuous', 'domain': (187.0, 711.0)},\n",
       " {'name': 'PTRATIO', 'type': 'continuous', 'domain': (12.6, 22.0)},\n",
       " {'name': 'B', 'type': 'continuous', 'domain': (0.32, 396.9)},\n",
       " {'name': 'LSTAT', 'type': 'continuous', 'domain': (1.73, 37.97)}]"
      ]
     },
     "execution_count": 19,
     "metadata": {},
     "output_type": "execute_result"
    }
   ],
   "source": [
    "# Imput and its domain. Set the domain to be min and max of training data\n",
    "bounds = [{'name':row['col'], 'type':row['type'], 'domain':(row['min'],row['max'])} for _, row in df_domain.iterrows()]\n",
    "bounds"
   ]
  },
  {
   "cell_type": "markdown",
   "id": "cb9d3064",
   "metadata": {},
   "source": [
    "About input and its domain\n",
    "- https://gpyopt.readthedocs.io/en/latest/GPyOpt.core.task.html#GPyOpt.core.task.space.Design_space"
   ]
  },
  {
   "cell_type": "code",
   "execution_count": 26,
   "id": "32ca7f13",
   "metadata": {},
   "outputs": [
    {
     "name": "stdout",
     "output_type": "stream",
     "text": [
      "Error in parallel computation. Fall back to single process!\n",
      "Complete 100.00% - [4/4] Computed stats for column LSTAT\n",
      "Complete\n",
      "Driverless AI Server reported dataset a44c224e-ac9f-11ec-8a3a-0242ac110002 deleted.\n",
      "Downloaded 'tmp_res.csv'\n",
      "---------- Done ----------\n",
      "Complete 100.00% - [4/4] Computed stats for column LSTAT\n",
      "Complete\n",
      "Driverless AI Server reported dataset a871b0e6-ac9f-11ec-8a3a-0242ac110002 deleted.\n",
      "Downloaded 'tmp_res.csv'\n",
      "---------- Done ----------\n",
      "Complete 100.00% - [4/4] Computed stats for column LSTAT\n",
      "Complete\n",
      "Driverless AI Server reported dataset acafa604-ac9f-11ec-8a3a-0242ac110002 deleted.\n",
      "Downloaded 'tmp_res.csv'\n",
      "---------- Done ----------\n",
      "Complete 100.00% - [4/4] Computed stats for column LSTAT\n",
      "Complete\n",
      "Driverless AI Server reported dataset b0f453ae-ac9f-11ec-8a3a-0242ac110002 deleted.\n",
      "Downloaded 'tmp_res.csv'\n",
      "---------- Done ----------\n",
      "Complete 100.00% - [4/4] Computed stats for column LSTAT\n",
      "Complete\n",
      "Driverless AI Server reported dataset b53ad26c-ac9f-11ec-8a3a-0242ac110002 deleted.\n",
      "Downloaded 'tmp_res.csv'\n",
      "---------- Done ----------\n",
      "Error in parallel computation. Fall back to single process!\n",
      "Complete 100.00% - [4/4] Computed stats for column LSTAT\n",
      "Complete\n",
      "Driverless AI Server reported dataset b98b297a-ac9f-11ec-8a3a-0242ac110002 deleted.\n",
      "Downloaded 'tmp_res.csv'\n",
      "---------- Done ----------\n",
      "Error in parallel computation. Fall back to single process!\n",
      "Complete 100.00% - [4/4] Computed stats for column LSTAT\n",
      "Complete\n",
      "Driverless AI Server reported dataset bdd63b96-ac9f-11ec-8a3a-0242ac110002 deleted.\n",
      "Downloaded 'tmp_res.csv'\n",
      "---------- Done ----------\n",
      "Error in parallel computation. Fall back to single process!\n",
      "Complete 100.00% - [4/4] Computed stats for column LSTAT\n",
      "Complete\n",
      "Driverless AI Server reported dataset c2248ba8-ac9f-11ec-8a3a-0242ac110002 deleted.\n",
      "Downloaded 'tmp_res.csv'\n",
      "---------- Done ----------\n"
     ]
    }
   ],
   "source": [
    "# run Baysian optimization\n",
    "myBopt = BayesianOptimization(f=daimodel, \n",
    "                              domain=bounds, \n",
    "                              acquisition_type='EI',    # 'EI', 'MPI', 'LCB'\n",
    "                              batch_size=1,\n",
    "                              # ToDo: constraints. Can set constraints such as x1+x2+x3=1\n",
    "                              constraints=None, \n",
    "                              maximize=True)  # maximize=True：maximization problem, that is to minimize -f\n",
    "\n",
    "myBopt.run_optimization(max_iter=3, max_time=600)"
   ]
  },
  {
   "cell_type": "markdown",
   "id": "ad95d390",
   "metadata": {},
   "source": [
    "The first 5 runs are initial random guess. "
   ]
  },
  {
   "cell_type": "code",
   "execution_count": 27,
   "id": "17d96925",
   "metadata": {},
   "outputs": [
    {
     "data": {
      "text/plain": [
       "GPyOpt.methods.bayesian_optimization.BayesianOptimization"
      ]
     },
     "execution_count": 27,
     "metadata": {},
     "output_type": "execute_result"
    }
   ],
   "source": [
    "type(myBopt)"
   ]
  },
  {
   "cell_type": "code",
   "execution_count": 28,
   "id": "8db4d096",
   "metadata": {},
   "outputs": [
    {
     "data": {
      "text/plain": [
       "array([ 58.35727058,  95.53708541,  10.47620174,   0.49424965,\n",
       "         0.82457895,   7.20955646,  92.08470362,  10.18824491,\n",
       "         6.67714106, 480.46328335,  13.43727608, 241.17541093,\n",
       "         2.34203938])"
      ]
     },
     "execution_count": 28,
     "metadata": {},
     "output_type": "execute_result"
    }
   ],
   "source": [
    "# Optimal x\n",
    "myBopt.x_opt"
   ]
  },
  {
   "cell_type": "code",
   "execution_count": 29,
   "id": "febdff96",
   "metadata": {},
   "outputs": [
    {
     "data": {
      "text/html": [
       "<div>\n",
       "<style scoped>\n",
       "    .dataframe tbody tr th:only-of-type {\n",
       "        vertical-align: middle;\n",
       "    }\n",
       "\n",
       "    .dataframe tbody tr th {\n",
       "        vertical-align: top;\n",
       "    }\n",
       "\n",
       "    .dataframe thead th {\n",
       "        text-align: right;\n",
       "    }\n",
       "</style>\n",
       "<table border=\"1\" class=\"dataframe\">\n",
       "  <thead>\n",
       "    <tr style=\"text-align: right;\">\n",
       "      <th></th>\n",
       "      <th>CRIM</th>\n",
       "      <th>ZN</th>\n",
       "      <th>INDUS</th>\n",
       "      <th>CHAS</th>\n",
       "      <th>NOX</th>\n",
       "      <th>RM</th>\n",
       "      <th>AGE</th>\n",
       "      <th>DIS</th>\n",
       "      <th>RAD</th>\n",
       "      <th>TAX</th>\n",
       "      <th>PTRATIO</th>\n",
       "      <th>B</th>\n",
       "      <th>LSTAT</th>\n",
       "    </tr>\n",
       "  </thead>\n",
       "  <tbody>\n",
       "    <tr>\n",
       "      <th>0</th>\n",
       "      <td>58.357271</td>\n",
       "      <td>95.537085</td>\n",
       "      <td>10.476202</td>\n",
       "      <td>0.49425</td>\n",
       "      <td>0.824579</td>\n",
       "      <td>7.209556</td>\n",
       "      <td>92.084704</td>\n",
       "      <td>10.188245</td>\n",
       "      <td>6.677141</td>\n",
       "      <td>480.463283</td>\n",
       "      <td>13.437276</td>\n",
       "      <td>241.175411</td>\n",
       "      <td>2.342039</td>\n",
       "    </tr>\n",
       "  </tbody>\n",
       "</table>\n",
       "</div>"
      ],
      "text/plain": [
       "        CRIM         ZN      INDUS     CHAS       NOX        RM        AGE  \\\n",
       "0  58.357271  95.537085  10.476202  0.49425  0.824579  7.209556  92.084704   \n",
       "\n",
       "         DIS       RAD         TAX    PTRATIO           B     LSTAT  \n",
       "0  10.188245  6.677141  480.463283  13.437276  241.175411  2.342039  "
      ]
     },
     "execution_count": 29,
     "metadata": {},
     "output_type": "execute_result"
    }
   ],
   "source": [
    "pd.DataFrame(myBopt.x_opt.reshape(1,len(x_cols)), columns=x_cols)"
   ]
  },
  {
   "cell_type": "code",
   "execution_count": 30,
   "id": "8c144fa3",
   "metadata": {},
   "outputs": [
    {
     "data": {
      "text/plain": [
       "41.469074"
      ]
     },
     "execution_count": 30,
     "metadata": {},
     "output_type": "execute_result"
    }
   ],
   "source": [
    "# maxmized value of the target \n",
    "-1 * myBopt.fx_opt    # *-1 because we solved maxmization problem"
   ]
  },
  {
   "cell_type": "code",
   "execution_count": 31,
   "id": "3ec9c8f8",
   "metadata": {},
   "outputs": [
    {
     "data": {
      "image/png": "[encoded data removed]",
      "text/plain": [
       "<Figure size 720x360 with 2 Axes>"
      ]
     },
     "metadata": {
      "needs_background": "light"
     },
     "output_type": "display_data"
    }
   ],
   "source": [
    "# Optimization history\n",
    "myBopt.plot_convergence()"
   ]
  },
  {
   "cell_type": "markdown",
   "id": "34ade8d6",
   "metadata": {},
   "source": [
    "about plot\n",
    "- https://gpyopt.readthedocs.io/en/latest/GPyOpt.core.html#GPyOpt.core.bo.BO.plot_convergence"
   ]
  },
  {
   "cell_type": "code",
   "execution_count": 55,
   "id": "0aaea57a",
   "metadata": {},
   "outputs": [
    {
     "data": {
      "text/html": [
       "<div>\n",
       "<style scoped>\n",
       "    .dataframe tbody tr th:only-of-type {\n",
       "        vertical-align: middle;\n",
       "    }\n",
       "\n",
       "    .dataframe tbody tr th {\n",
       "        vertical-align: top;\n",
       "    }\n",
       "\n",
       "    .dataframe thead th {\n",
       "        text-align: right;\n",
       "    }\n",
       "</style>\n",
       "<table border=\"1\" class=\"dataframe\">\n",
       "  <thead>\n",
       "    <tr style=\"text-align: right;\">\n",
       "      <th></th>\n",
       "      <th>CRIM</th>\n",
       "      <th>ZN</th>\n",
       "      <th>INDUS</th>\n",
       "      <th>CHAS</th>\n",
       "      <th>NOX</th>\n",
       "      <th>RM</th>\n",
       "      <th>AGE</th>\n",
       "      <th>DIS</th>\n",
       "      <th>RAD</th>\n",
       "      <th>TAX</th>\n",
       "      <th>PTRATIO</th>\n",
       "      <th>B</th>\n",
       "      <th>LSTAT</th>\n",
       "      <th>MEDV</th>\n",
       "    </tr>\n",
       "  </thead>\n",
       "  <tbody>\n",
       "    <tr>\n",
       "      <th>0</th>\n",
       "      <td>13.264146</td>\n",
       "      <td>52.779628</td>\n",
       "      <td>16.226750</td>\n",
       "      <td>0.520632</td>\n",
       "      <td>0.571441</td>\n",
       "      <td>6.955624</td>\n",
       "      <td>3.775794</td>\n",
       "      <td>2.485824</td>\n",
       "      <td>5.147052</td>\n",
       "      <td>307.947453</td>\n",
       "      <td>13.537101</td>\n",
       "      <td>288.219975</td>\n",
       "      <td>13.806746</td>\n",
       "      <td>-25.942667</td>\n",
       "    </tr>\n",
       "    <tr>\n",
       "      <th>1</th>\n",
       "      <td>58.846367</td>\n",
       "      <td>50.523949</td>\n",
       "      <td>15.229437</td>\n",
       "      <td>0.215178</td>\n",
       "      <td>0.667682</td>\n",
       "      <td>4.678817</td>\n",
       "      <td>98.876912</td>\n",
       "      <td>2.977041</td>\n",
       "      <td>23.161956</td>\n",
       "      <td>683.720318</td>\n",
       "      <td>13.901318</td>\n",
       "      <td>353.363458</td>\n",
       "      <td>29.551094</td>\n",
       "      <td>-11.881808</td>\n",
       "    </tr>\n",
       "    <tr>\n",
       "      <th>2</th>\n",
       "      <td>64.143070</td>\n",
       "      <td>43.811011</td>\n",
       "      <td>13.650983</td>\n",
       "      <td>0.510994</td>\n",
       "      <td>0.659920</td>\n",
       "      <td>4.322187</td>\n",
       "      <td>69.837250</td>\n",
       "      <td>9.150506</td>\n",
       "      <td>17.070067</td>\n",
       "      <td>575.549413</td>\n",
       "      <td>21.422121</td>\n",
       "      <td>265.169681</td>\n",
       "      <td>5.125761</td>\n",
       "      <td>-24.796570</td>\n",
       "    </tr>\n",
       "    <tr>\n",
       "      <th>3</th>\n",
       "      <td>69.653087</td>\n",
       "      <td>40.506966</td>\n",
       "      <td>15.887719</td>\n",
       "      <td>0.880211</td>\n",
       "      <td>0.832448</td>\n",
       "      <td>6.734609</td>\n",
       "      <td>55.980910</td>\n",
       "      <td>2.894445</td>\n",
       "      <td>20.028125</td>\n",
       "      <td>670.199990</td>\n",
       "      <td>17.037085</td>\n",
       "      <td>340.684536</td>\n",
       "      <td>18.386182</td>\n",
       "      <td>-10.722339</td>\n",
       "    </tr>\n",
       "    <tr>\n",
       "      <th>4</th>\n",
       "      <td>71.939613</td>\n",
       "      <td>93.672700</td>\n",
       "      <td>26.812325</td>\n",
       "      <td>0.592520</td>\n",
       "      <td>0.591778</td>\n",
       "      <td>7.116636</td>\n",
       "      <td>53.381421</td>\n",
       "      <td>7.473544</td>\n",
       "      <td>21.495012</td>\n",
       "      <td>455.456437</td>\n",
       "      <td>19.855286</td>\n",
       "      <td>71.269044</td>\n",
       "      <td>19.776366</td>\n",
       "      <td>-19.526700</td>\n",
       "    </tr>\n",
       "    <tr>\n",
       "      <th>5</th>\n",
       "      <td>58.357271</td>\n",
       "      <td>95.537085</td>\n",
       "      <td>10.476202</td>\n",
       "      <td>0.494250</td>\n",
       "      <td>0.824579</td>\n",
       "      <td>7.209556</td>\n",
       "      <td>92.084704</td>\n",
       "      <td>10.188245</td>\n",
       "      <td>6.677141</td>\n",
       "      <td>480.463283</td>\n",
       "      <td>13.437276</td>\n",
       "      <td>241.175411</td>\n",
       "      <td>2.342039</td>\n",
       "      <td>-41.469074</td>\n",
       "    </tr>\n",
       "    <tr>\n",
       "      <th>6</th>\n",
       "      <td>10.226338</td>\n",
       "      <td>48.304727</td>\n",
       "      <td>17.612289</td>\n",
       "      <td>0.017178</td>\n",
       "      <td>0.859889</td>\n",
       "      <td>5.188705</td>\n",
       "      <td>5.669188</td>\n",
       "      <td>6.437028</td>\n",
       "      <td>9.902399</td>\n",
       "      <td>314.297725</td>\n",
       "      <td>12.954325</td>\n",
       "      <td>290.820022</td>\n",
       "      <td>11.039374</td>\n",
       "      <td>-19.595667</td>\n",
       "    </tr>\n",
       "    <tr>\n",
       "      <th>7</th>\n",
       "      <td>11.282442</td>\n",
       "      <td>1.993205</td>\n",
       "      <td>1.243632</td>\n",
       "      <td>0.009131</td>\n",
       "      <td>0.547865</td>\n",
       "      <td>7.768700</td>\n",
       "      <td>74.932779</td>\n",
       "      <td>3.109887</td>\n",
       "      <td>20.136803</td>\n",
       "      <td>585.373799</td>\n",
       "      <td>19.965922</td>\n",
       "      <td>368.300633</td>\n",
       "      <td>27.609811</td>\n",
       "      <td>-24.394072</td>\n",
       "    </tr>\n",
       "  </tbody>\n",
       "</table>\n",
       "</div>"
      ],
      "text/plain": [
       "        CRIM         ZN      INDUS      CHAS       NOX        RM        AGE  \\\n",
       "0  13.264146  52.779628  16.226750  0.520632  0.571441  6.955624   3.775794   \n",
       "1  58.846367  50.523949  15.229437  0.215178  0.667682  4.678817  98.876912   \n",
       "2  64.143070  43.811011  13.650983  0.510994  0.659920  4.322187  69.837250   \n",
       "3  69.653087  40.506966  15.887719  0.880211  0.832448  6.734609  55.980910   \n",
       "4  71.939613  93.672700  26.812325  0.592520  0.591778  7.116636  53.381421   \n",
       "5  58.357271  95.537085  10.476202  0.494250  0.824579  7.209556  92.084704   \n",
       "6  10.226338  48.304727  17.612289  0.017178  0.859889  5.188705   5.669188   \n",
       "7  11.282442   1.993205   1.243632  0.009131  0.547865  7.768700  74.932779   \n",
       "\n",
       "         DIS        RAD         TAX    PTRATIO           B      LSTAT  \\\n",
       "0   2.485824   5.147052  307.947453  13.537101  288.219975  13.806746   \n",
       "1   2.977041  23.161956  683.720318  13.901318  353.363458  29.551094   \n",
       "2   9.150506  17.070067  575.549413  21.422121  265.169681   5.125761   \n",
       "3   2.894445  20.028125  670.199990  17.037085  340.684536  18.386182   \n",
       "4   7.473544  21.495012  455.456437  19.855286   71.269044  19.776366   \n",
       "5  10.188245   6.677141  480.463283  13.437276  241.175411   2.342039   \n",
       "6   6.437028   9.902399  314.297725  12.954325  290.820022  11.039374   \n",
       "7   3.109887  20.136803  585.373799  19.965922  368.300633  27.609811   \n",
       "\n",
       "        MEDV  \n",
       "0 -25.942667  \n",
       "1 -11.881808  \n",
       "2 -24.796570  \n",
       "3 -10.722339  \n",
       "4 -19.526700  \n",
       "5 -41.469074  \n",
       "6 -19.595667  \n",
       "7 -24.394072  "
      ]
     },
     "execution_count": 55,
     "metadata": {},
     "output_type": "execute_result"
    }
   ],
   "source": [
    "# Scoring history\n",
    "\n",
    "pd.DataFrame(myBopt.X, columns=x_cols).join(pd.DataFrame(myBopt.Y, columns=[target_col]))\n",
    "# if maximization problem need *-1 for the target variable"
   ]
  },
  {
   "cell_type": "code",
   "execution_count": null,
   "id": "50e99983",
   "metadata": {},
   "outputs": [],
   "source": []
  },
  {
   "cell_type": "markdown",
   "id": "e75993c4",
   "metadata": {},
   "source": [
    "## Crean up a flow of the processes"
   ]
  },
  {
   "cell_type": "code",
   "execution_count": 8,
   "id": "88af0a5e",
   "metadata": {},
   "outputs": [],
   "source": [
    "# DAI Parameters\n",
    "dai_url = 'http://54.159.88.206:12345'\n",
    "dai_uname = idpass['id']\n",
    "dai_password = idpass['pass11013']\n",
    "dai_experimet_key = '9b27f286-aca6-11ec-b964-0242ac110002'\n",
    "\n",
    "# Optimization Parameters\n",
    "acquisition_type = 'EI'    # 'EI', 'MPI', 'LCB'\n",
    "constraints=None\n",
    "maximize=False   # maximize=True：maximization problem, that is to minimize -f.  maximize=False：minimization problem\n",
    "max_iter = 3\n",
    "max_time = 600  # in seconds"
   ]
  },
  {
   "cell_type": "code",
   "execution_count": 9,
   "id": "a9e3f701",
   "metadata": {},
   "outputs": [],
   "source": [
    "dai = driverlessai.Client(address=dai_url, username=dai_uname, password=dai_password)"
   ]
  },
  {
   "cell_type": "code",
   "execution_count": 10,
   "id": "508fb212",
   "metadata": {},
   "outputs": [],
   "source": [
    "experiment = dai.experiments.get(key=dai_experimet_key)\n",
    "\n",
    "## Column info\n",
    "dataset = dai.datasets.get(key=experiment.datasets['train_dataset'].key)\n",
    "data_cols = dataset.columns\n",
    "try:\n",
    "    drop_cols = experiment.settings['drop_columns']     # return dropped column in list\n",
    "except KeyError:\n",
    "    drop_cols = []     # if no dropped column\n",
    "target_col = experiment.settings['target_column']\n",
    "x_cols = []\n",
    "for col in data_cols:\n",
    "    if (col in drop_cols) or (col in target_col):    # remove Target col and Dropped cols\n",
    "        continue\n",
    "    x_cols.append(col)\n",
    "\n",
    "## Domain (Min and Max) of X columns and their types in training data\n",
    "min_list = [col_summary.min for col_summary in dataset.column_summaries()[x_cols]]\n",
    "max_list = [col_summary.max for col_summary in dataset.column_summaries()[x_cols]]\n",
    "type_list = [col_summary.data_type for col_summary in dataset.column_summaries()[x_cols]]\n",
    "type_list = pd.Series(type_list).map({'real':'continuous', 'int':'continuous', 'str':'categorical'})   # Map DAI data type to GPyOpt type\n",
    "# GPyOpt takes 'continuous', 'discrete' or 'categorical'.\n",
    "# 'categorical' is not tested in this notebook\n",
    "df_domain = pd.DataFrame({'col':x_cols, 'min':min_list, 'max':max_list, 'type':type_list})"
   ]
  },
  {
   "cell_type": "code",
   "execution_count": 32,
   "id": "5e7a76d9",
   "metadata": {},
   "outputs": [],
   "source": [
    "def daimodel(x: np.array, dai: driverlessai._core.Client, experiment: driverlessai._experiments.Experiment) -> np.array:\n",
    "    ''' \n",
    "    This function does DAI Scoring. And we want to find optimal x to minimize or maximize daimodel(x)\n",
    "    Only regression model (classification model is not implemented)\n",
    "    '''\n",
    "    #print(type(x))\n",
    "    #print(x.shape)\n",
    "    #print(x)\n",
    "    # Create a scoring data for DAI\n",
    "    df = pd.DataFrame(np.array([x[:,i] for i in range(len(x_cols))]).reshape(x.shape[0], len(x_cols)), columns=x_cols)\n",
    "    #print(df)\n",
    "    # Upload it to DAI\n",
    "    df.to_csv('tmp_pred.csv', index=False)\n",
    "    data_to_predict = dai.datasets.create(data='./tmp_pred.csv', data_source='upload', name='tmp_pred.csv', force=True)\n",
    "    # Scoring on the new dataset and download it\n",
    "    dai_predictions = experiment.predict(dataset=data_to_predict, include_columns=data_to_predict.columns)\n",
    "    data_to_predict.delete()\n",
    "    # Download the scored data and return the prediction\n",
    "    dai_predictions.download(dst_dir='', dst_file='tmp_res.csv', overwrite=True) \n",
    "    df_res = pd.read_csv('tmp_res.csv')\n",
    "    print('---------- Done ----------')\n",
    "    return np.array(df_res[experiment.settings['target_column']])    # return only prediction\n",
    "\n",
    "daimodel_gpyopt = functools.partial(daimodel, dai=dai, experiment=experiment)"
   ]
  },
  {
   "cell_type": "code",
   "execution_count": 36,
   "id": "482e186b",
   "metadata": {},
   "outputs": [],
   "source": [
    "# Example\n",
    "#daimodel_gpyopt(np.array([max_list]))"
   ]
  },
  {
   "cell_type": "code",
   "execution_count": 34,
   "id": "d80769db",
   "metadata": {},
   "outputs": [],
   "source": [
    "# Imput and its domain. Set the domain to be min and max of training data\n",
    "bounds = [{'name':row['col'], 'type':row['type'], 'domain':(row['min'],row['max'])} for _, row in df_domain.iterrows()]"
   ]
  },
  {
   "cell_type": "code",
   "execution_count": 42,
   "id": "e65ece30",
   "metadata": {},
   "outputs": [
    {
     "name": "stdout",
     "output_type": "stream",
     "text": [
      "Complete 100.00% - [4/4] Computed stats for column PAY_AMT6\n",
      "Complete\n",
      "Driverless AI Server reported dataset a55dea2a-b0ad-11ec-866d-0242ac110002 deleted.\n",
      "Downloaded 'tmp_res.csv'\n",
      "---------- Done ----------\n",
      "Complete 100.00% - [4/4] Computed stats for column PAY_AMT6\n",
      "Complete\n",
      "Driverless AI Server reported dataset a98d09c8-b0ad-11ec-866d-0242ac110002 deleted.\n",
      "Downloaded 'tmp_res.csv'\n",
      "---------- Done ----------\n",
      "Complete 100.00% - [4/4] Computed stats for column PAY_AMT6\n",
      "Complete\n",
      "Driverless AI Server reported dataset adb68344-b0ad-11ec-866d-0242ac110002 deleted.\n",
      "Downloaded 'tmp_res.csv'\n",
      "---------- Done ----------\n",
      "Complete 100.00% - [4/4] Computed stats for column PAY_AMT6\n",
      "Complete\n",
      "Driverless AI Server reported dataset b1e0f684-b0ad-11ec-866d-0242ac110002 deleted.\n",
      "Downloaded 'tmp_res.csv'\n",
      "---------- Done ----------\n",
      "Complete 100.00% - [4/4] Computed stats for column PAY_AMT6\n",
      "Complete\n",
      "Driverless AI Server reported dataset b63ab30a-b0ad-11ec-866d-0242ac110002 deleted.\n",
      "Downloaded 'tmp_res.csv'\n",
      "---------- Done ----------\n",
      "Complete 100.00% - [4/4] Computed stats for column PAY_AMT6\n",
      "Complete\n",
      "Driverless AI Server reported dataset ba7deacc-b0ad-11ec-866d-0242ac110002 deleted.\n",
      "Downloaded 'tmp_res.csv'\n",
      "---------- Done ----------\n",
      "Complete 100.00% - [4/4] Computed stats for column PAY_AMT6\n",
      "Complete\n",
      "Driverless AI Server reported dataset beba38b6-b0ad-11ec-866d-0242ac110002 deleted.\n",
      "Downloaded 'tmp_res.csv'\n",
      "---------- Done ----------\n",
      "Complete 100.00% - [4/4] Computed stats for column PAY_AMT6\n",
      "Complete\n",
      "Driverless AI Server reported dataset c2f86218-b0ad-11ec-866d-0242ac110002 deleted.\n",
      "Downloaded 'tmp_res.csv'\n",
      "---------- Done ----------\n"
     ]
    }
   ],
   "source": [
    "# run Baysian optimization\n",
    "myBopt = BayesianOptimization(f=daimodel_gpyopt, \n",
    "                              domain=bounds, \n",
    "                              acquisition_type=acquisition_type,\n",
    "                              #batch_size=4,\n",
    "                              #num_cores=4,\n",
    "                              # ToDo: constraints. Can set constraints such as x1+x2+x3=1\n",
    "                              constraints=constraints, \n",
    "                              maximize=maximize)\n",
    "\n",
    "myBopt.run_optimization(max_iter=max_iter, max_time=max_time)"
   ]
  },
  {
   "cell_type": "code",
   "execution_count": 41,
   "id": "fb0e503b",
   "metadata": {},
   "outputs": [
    {
     "data": {
      "image/png": "[encoded data removed]",
      "text/plain": [
       "<Figure size 720x360 with 2 Axes>"
      ]
     },
     "metadata": {
      "needs_background": "light"
     },
     "output_type": "display_data"
    },
    {
     "data": {
      "text/html": [
       "<div>\n",
       "<style scoped>\n",
       "    .dataframe tbody tr th:only-of-type {\n",
       "        vertical-align: middle;\n",
       "    }\n",
       "\n",
       "    .dataframe tbody tr th {\n",
       "        vertical-align: top;\n",
       "    }\n",
       "\n",
       "    .dataframe thead th {\n",
       "        text-align: right;\n",
       "    }\n",
       "</style>\n",
       "<table border=\"1\" class=\"dataframe\">\n",
       "  <thead>\n",
       "    <tr style=\"text-align: right;\">\n",
       "      <th></th>\n",
       "      <th>SEX</th>\n",
       "      <th>EDUCATION</th>\n",
       "      <th>MARRIAGE</th>\n",
       "      <th>AGE</th>\n",
       "      <th>PAY_0</th>\n",
       "      <th>PAY_2</th>\n",
       "      <th>PAY_3</th>\n",
       "      <th>PAY_4</th>\n",
       "      <th>PAY_5</th>\n",
       "      <th>PAY_6</th>\n",
       "      <th>...</th>\n",
       "      <th>BILL_AMT4</th>\n",
       "      <th>BILL_AMT5</th>\n",
       "      <th>BILL_AMT6</th>\n",
       "      <th>PAY_AMT1</th>\n",
       "      <th>PAY_AMT2</th>\n",
       "      <th>PAY_AMT3</th>\n",
       "      <th>PAY_AMT4</th>\n",
       "      <th>PAY_AMT5</th>\n",
       "      <th>PAY_AMT6</th>\n",
       "      <th>LIMIT_BAL</th>\n",
       "    </tr>\n",
       "  </thead>\n",
       "  <tbody>\n",
       "    <tr>\n",
       "      <th>0</th>\n",
       "      <td>1.019238</td>\n",
       "      <td>4.934877</td>\n",
       "      <td>1.339658</td>\n",
       "      <td>54.193982</td>\n",
       "      <td>5.582057</td>\n",
       "      <td>-1.839537</td>\n",
       "      <td>4.843442</td>\n",
       "      <td>6.477532</td>\n",
       "      <td>3.379727</td>\n",
       "      <td>4.664216</td>\n",
       "      <td>...</td>\n",
       "      <td>790607.331410</td>\n",
       "      <td>321212.369269</td>\n",
       "      <td>-15990.419418</td>\n",
       "      <td>466533.761389</td>\n",
       "      <td>9.634603e+05</td>\n",
       "      <td>61468.904766</td>\n",
       "      <td>8841.355813</td>\n",
       "      <td>191609.633697</td>\n",
       "      <td>182723.727407</td>\n",
       "      <td>497579.28</td>\n",
       "    </tr>\n",
       "    <tr>\n",
       "      <th>1</th>\n",
       "      <td>1.053903</td>\n",
       "      <td>4.303611</td>\n",
       "      <td>1.635582</td>\n",
       "      <td>39.213234</td>\n",
       "      <td>5.808196</td>\n",
       "      <td>4.252787</td>\n",
       "      <td>3.488627</td>\n",
       "      <td>7.929515</td>\n",
       "      <td>-0.746775</td>\n",
       "      <td>1.744049</td>\n",
       "      <td>...</td>\n",
       "      <td>745052.342822</td>\n",
       "      <td>184147.771731</td>\n",
       "      <td>840636.155056</td>\n",
       "      <td>730378.059981</td>\n",
       "      <td>6.653515e+05</td>\n",
       "      <td>256474.037843</td>\n",
       "      <td>572047.609690</td>\n",
       "      <td>103895.563879</td>\n",
       "      <td>326150.342670</td>\n",
       "      <td>590035.44</td>\n",
       "    </tr>\n",
       "    <tr>\n",
       "      <th>2</th>\n",
       "      <td>1.422327</td>\n",
       "      <td>3.175629</td>\n",
       "      <td>2.397555</td>\n",
       "      <td>22.354929</td>\n",
       "      <td>5.169809</td>\n",
       "      <td>1.399439</td>\n",
       "      <td>-0.379875</td>\n",
       "      <td>-1.431076</td>\n",
       "      <td>2.908537</td>\n",
       "      <td>1.299412</td>\n",
       "      <td>...</td>\n",
       "      <td>584294.751550</td>\n",
       "      <td>679389.421835</td>\n",
       "      <td>892054.577045</td>\n",
       "      <td>446934.796141</td>\n",
       "      <td>1.529912e+06</td>\n",
       "      <td>379549.312856</td>\n",
       "      <td>85763.513002</td>\n",
       "      <td>111753.841609</td>\n",
       "      <td>113257.793107</td>\n",
       "      <td>472835.34</td>\n",
       "    </tr>\n",
       "    <tr>\n",
       "      <th>3</th>\n",
       "      <td>1.542504</td>\n",
       "      <td>4.889235</td>\n",
       "      <td>0.681465</td>\n",
       "      <td>60.332693</td>\n",
       "      <td>3.067999</td>\n",
       "      <td>0.388822</td>\n",
       "      <td>5.862796</td>\n",
       "      <td>-0.326349</td>\n",
       "      <td>-0.249026</td>\n",
       "      <td>-1.246281</td>\n",
       "      <td>...</td>\n",
       "      <td>437756.160834</td>\n",
       "      <td>453897.690880</td>\n",
       "      <td>-127092.784614</td>\n",
       "      <td>8629.747007</td>\n",
       "      <td>3.075583e+05</td>\n",
       "      <td>346167.085879</td>\n",
       "      <td>588764.995691</td>\n",
       "      <td>60443.253076</td>\n",
       "      <td>523076.493669</td>\n",
       "      <td>385495.53</td>\n",
       "    </tr>\n",
       "    <tr>\n",
       "      <th>4</th>\n",
       "      <td>1.873856</td>\n",
       "      <td>1.704916</td>\n",
       "      <td>1.046521</td>\n",
       "      <td>57.862849</td>\n",
       "      <td>-0.177591</td>\n",
       "      <td>1.556163</td>\n",
       "      <td>3.803661</td>\n",
       "      <td>2.253720</td>\n",
       "      <td>0.157044</td>\n",
       "      <td>2.119375</td>\n",
       "      <td>...</td>\n",
       "      <td>-167757.099175</td>\n",
       "      <td>-30754.747313</td>\n",
       "      <td>28150.299859</td>\n",
       "      <td>643243.371526</td>\n",
       "      <td>1.414176e+05</td>\n",
       "      <td>51287.054678</td>\n",
       "      <td>387441.033007</td>\n",
       "      <td>323830.607901</td>\n",
       "      <td>284112.108350</td>\n",
       "      <td>495315.94</td>\n",
       "    </tr>\n",
       "    <tr>\n",
       "      <th>5</th>\n",
       "      <td>1.847199</td>\n",
       "      <td>2.119525</td>\n",
       "      <td>0.920856</td>\n",
       "      <td>38.658311</td>\n",
       "      <td>2.175229</td>\n",
       "      <td>3.389960</td>\n",
       "      <td>7.821414</td>\n",
       "      <td>3.998073</td>\n",
       "      <td>0.651858</td>\n",
       "      <td>7.497661</td>\n",
       "      <td>...</td>\n",
       "      <td>-102346.504026</td>\n",
       "      <td>639426.312681</td>\n",
       "      <td>28489.598529</td>\n",
       "      <td>390670.552191</td>\n",
       "      <td>1.319367e+06</td>\n",
       "      <td>684205.653756</td>\n",
       "      <td>495195.344734</td>\n",
       "      <td>352972.907793</td>\n",
       "      <td>107473.085614</td>\n",
       "      <td>381616.00</td>\n",
       "    </tr>\n",
       "    <tr>\n",
       "      <th>6</th>\n",
       "      <td>1.697058</td>\n",
       "      <td>0.496096</td>\n",
       "      <td>1.646792</td>\n",
       "      <td>39.949336</td>\n",
       "      <td>1.920426</td>\n",
       "      <td>3.562590</td>\n",
       "      <td>4.168339</td>\n",
       "      <td>-0.125488</td>\n",
       "      <td>0.745726</td>\n",
       "      <td>6.595687</td>\n",
       "      <td>...</td>\n",
       "      <td>377802.657303</td>\n",
       "      <td>451109.119088</td>\n",
       "      <td>525115.600006</td>\n",
       "      <td>321749.935042</td>\n",
       "      <td>1.010537e+06</td>\n",
       "      <td>532480.954139</td>\n",
       "      <td>111699.567678</td>\n",
       "      <td>352191.094574</td>\n",
       "      <td>204208.611482</td>\n",
       "      <td>515622.30</td>\n",
       "    </tr>\n",
       "    <tr>\n",
       "      <th>7</th>\n",
       "      <td>1.033989</td>\n",
       "      <td>5.529933</td>\n",
       "      <td>1.293629</td>\n",
       "      <td>40.133729</td>\n",
       "      <td>3.069244</td>\n",
       "      <td>7.805674</td>\n",
       "      <td>0.945194</td>\n",
       "      <td>3.165865</td>\n",
       "      <td>4.704218</td>\n",
       "      <td>-0.712914</td>\n",
       "      <td>...</td>\n",
       "      <td>-135237.807208</td>\n",
       "      <td>740877.401847</td>\n",
       "      <td>-209238.305738</td>\n",
       "      <td>124283.380949</td>\n",
       "      <td>5.484373e+05</td>\n",
       "      <td>238946.056726</td>\n",
       "      <td>599524.146745</td>\n",
       "      <td>140537.698876</td>\n",
       "      <td>316833.239806</td>\n",
       "      <td>498385.44</td>\n",
       "    </tr>\n",
       "  </tbody>\n",
       "</table>\n",
       "<p>8 rows × 23 columns</p>\n",
       "</div>"
      ],
      "text/plain": [
       "        SEX  EDUCATION  MARRIAGE        AGE     PAY_0     PAY_2     PAY_3  \\\n",
       "0  1.019238   4.934877  1.339658  54.193982  5.582057 -1.839537  4.843442   \n",
       "1  1.053903   4.303611  1.635582  39.213234  5.808196  4.252787  3.488627   \n",
       "2  1.422327   3.175629  2.397555  22.354929  5.169809  1.399439 -0.379875   \n",
       "3  1.542504   4.889235  0.681465  60.332693  3.067999  0.388822  5.862796   \n",
       "4  1.873856   1.704916  1.046521  57.862849 -0.177591  1.556163  3.803661   \n",
       "5  1.847199   2.119525  0.920856  38.658311  2.175229  3.389960  7.821414   \n",
       "6  1.697058   0.496096  1.646792  39.949336  1.920426  3.562590  4.168339   \n",
       "7  1.033989   5.529933  1.293629  40.133729  3.069244  7.805674  0.945194   \n",
       "\n",
       "      PAY_4     PAY_5     PAY_6  ...      BILL_AMT4      BILL_AMT5  \\\n",
       "0  6.477532  3.379727  4.664216  ...  790607.331410  321212.369269   \n",
       "1  7.929515 -0.746775  1.744049  ...  745052.342822  184147.771731   \n",
       "2 -1.431076  2.908537  1.299412  ...  584294.751550  679389.421835   \n",
       "3 -0.326349 -0.249026 -1.246281  ...  437756.160834  453897.690880   \n",
       "4  2.253720  0.157044  2.119375  ... -167757.099175  -30754.747313   \n",
       "5  3.998073  0.651858  7.497661  ... -102346.504026  639426.312681   \n",
       "6 -0.125488  0.745726  6.595687  ...  377802.657303  451109.119088   \n",
       "7  3.165865  4.704218 -0.712914  ... -135237.807208  740877.401847   \n",
       "\n",
       "       BILL_AMT6       PAY_AMT1      PAY_AMT2       PAY_AMT3       PAY_AMT4  \\\n",
       "0  -15990.419418  466533.761389  9.634603e+05   61468.904766    8841.355813   \n",
       "1  840636.155056  730378.059981  6.653515e+05  256474.037843  572047.609690   \n",
       "2  892054.577045  446934.796141  1.529912e+06  379549.312856   85763.513002   \n",
       "3 -127092.784614    8629.747007  3.075583e+05  346167.085879  588764.995691   \n",
       "4   28150.299859  643243.371526  1.414176e+05   51287.054678  387441.033007   \n",
       "5   28489.598529  390670.552191  1.319367e+06  684205.653756  495195.344734   \n",
       "6  525115.600006  321749.935042  1.010537e+06  532480.954139  111699.567678   \n",
       "7 -209238.305738  124283.380949  5.484373e+05  238946.056726  599524.146745   \n",
       "\n",
       "        PAY_AMT5       PAY_AMT6  LIMIT_BAL  \n",
       "0  191609.633697  182723.727407  497579.28  \n",
       "1  103895.563879  326150.342670  590035.44  \n",
       "2  111753.841609  113257.793107  472835.34  \n",
       "3   60443.253076  523076.493669  385495.53  \n",
       "4  323830.607901  284112.108350  495315.94  \n",
       "5  352972.907793  107473.085614  381616.00  \n",
       "6  352191.094574  204208.611482  515622.30  \n",
       "7  140537.698876  316833.239806  498385.44  \n",
       "\n",
       "[8 rows x 23 columns]"
      ]
     },
     "execution_count": 41,
     "metadata": {},
     "output_type": "execute_result"
    }
   ],
   "source": [
    "## results to be used \n",
    "\n",
    "# X\n",
    "pd.DataFrame(myBopt.x_opt.reshape(1,len(x_cols)), columns=x_cols)\n",
    "# y\n",
    "myBopt.fx_opt\n",
    "# Optimization history\n",
    "myBopt.plot_convergence()\n",
    "# Scoring history\n",
    "pd.DataFrame(myBopt.X, columns=x_cols).join(pd.DataFrame(myBopt.Y, columns=[target_col]))"
   ]
  },
  {
   "cell_type": "code",
   "execution_count": null,
   "id": "a9a5b2b6",
   "metadata": {},
   "outputs": [],
   "source": []
  },
  {
   "cell_type": "markdown",
   "id": "f764618b",
   "metadata": {},
   "source": [
    "### To Do\n",
    "- Handling categorical variable \n",
    "- Constraints\n",
    "- Aiming a specific target value problem (not min or max problem)\n",
    "- (?) Classification problem"
   ]
  },
  {
   "cell_type": "code",
   "execution_count": null,
   "id": "bdad3f4e",
   "metadata": {},
   "outputs": [],
   "source": []
  }
 ],
 "metadata": {
  "kernelspec": {
   "display_name": "Python 3",
   "language": "python",
   "name": "python3"
  },
  "language_info": {
   "codemirror_mode": {
    "name": "ipython",
    "version": 3
   },
   "file_extension": ".py",
   "mimetype": "text/x-python",
   "name": "python",
   "nbconvert_exporter": "python",
   "pygments_lexer": "ipython3",
   "version": "3.8.3"
  }
 },
 "nbformat": 4,
 "nbformat_minor": 5
}
